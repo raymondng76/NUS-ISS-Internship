{
 "nbformat": 4,
 "nbformat_minor": 2,
 "metadata": {
  "language_info": {
   "name": "python",
   "codemirror_mode": {
    "name": "ipython",
    "version": 3
   },
   "version": "3.6.7-final"
  },
  "orig_nbformat": 2,
  "file_extension": ".py",
  "mimetype": "text/x-python",
  "name": "python",
  "npconvert_exporter": "python",
  "pygments_lexer": "ipython3",
  "version": 3,
  "kernelspec": {
   "name": "python36764bitpytorchcondafc20da8af98d49a48592bf86f530148c",
   "display_name": "Python 3.6.7 64-bit ('pytorch': conda)"
  }
 },
 "cells": [
  {
   "cell_type": "code",
   "execution_count": 9,
   "metadata": {},
   "outputs": [],
   "source": [
    "from os import listdir\n",
    "from os.path import isfile, join\n",
    "import argparse\n",
    "#import cv2\n",
    "import numpy as np\n",
    "import sys\n",
    "import os\n",
    "import shutil\n",
    "import random \n",
    "import math\n",
    "import time\n",
    "import xml.etree.ElementTree as ET\n",
    "import matplotlib.pyplot as plt"
   ]
  },
  {
   "cell_type": "code",
   "execution_count": 16,
   "metadata": {},
   "outputs": [],
   "source": [
    "class YOLO_Kmeans:\n",
    "\n",
    "    def __init__(self, cluster_number, filename):\n",
    "        self.cluster_number = cluster_number\n",
    "        self.filename = filename\n",
    "\n",
    "    def iou(self, boxes, clusters):  # 1 box -> k clusters\n",
    "        n = boxes.shape[0]\n",
    "        k = self.cluster_number\n",
    "\n",
    "        box_area = boxes[:, 0] * boxes[:, 1]\n",
    "        box_area = box_area.repeat(k)\n",
    "        box_area = np.reshape(box_area, (n, k))\n",
    "\n",
    "        cluster_area = clusters[:, 0] * clusters[:, 1]\n",
    "        cluster_area = np.tile(cluster_area, [1, n])\n",
    "        cluster_area = np.reshape(cluster_area, (n, k))\n",
    "\n",
    "        box_w_matrix = np.reshape(boxes[:, 0].repeat(k), (n, k))\n",
    "        cluster_w_matrix = np.reshape(np.tile(clusters[:, 0], (1, n)), (n, k))\n",
    "        min_w_matrix = np.minimum(cluster_w_matrix, box_w_matrix)\n",
    "\n",
    "        box_h_matrix = np.reshape(boxes[:, 1].repeat(k), (n, k))\n",
    "        cluster_h_matrix = np.reshape(np.tile(clusters[:, 1], (1, n)), (n, k))\n",
    "        min_h_matrix = np.minimum(cluster_h_matrix, box_h_matrix)\n",
    "        inter_area = np.multiply(min_w_matrix, min_h_matrix)\n",
    "\n",
    "        result = inter_area / (box_area + cluster_area - inter_area)\n",
    "        return result\n",
    "\n",
    "    def avg_iou(self, boxes, clusters):\n",
    "        accuracy = np.mean([np.max(self.iou(boxes, clusters), axis=1)])\n",
    "        return accuracy\n",
    "\n",
    "    def kmeans(self, boxes, k, dist=np.median):\n",
    "        box_number = boxes.shape[0]\n",
    "        distances = np.empty((box_number, k))\n",
    "        last_nearest = np.zeros((box_number,))\n",
    "        np.random.seed()\n",
    "        clusters = boxes[np.random.choice(\n",
    "            box_number, k, replace=False)]  # init k clusters\n",
    "        while True:\n",
    "\n",
    "            distances = 1 - self.iou(boxes, clusters)\n",
    "\n",
    "            current_nearest = np.argmin(distances, axis=1)\n",
    "            if (last_nearest == current_nearest).all():\n",
    "                break  # clusters won't change\n",
    "            for cluster in range(k):\n",
    "                clusters[cluster] = dist(  # update clusters\n",
    "                    boxes[current_nearest == cluster], axis=0)\n",
    "\n",
    "            last_nearest = current_nearest\n",
    "\n",
    "        return clusters\n",
    "\n",
    "    def result2txt(self, data):\n",
    "        f = open(\"yolo_anchors.txt\", 'w')\n",
    "        row = np.shape(data)[0]\n",
    "        for i in range(row):\n",
    "            if i == 0:\n",
    "                x_y = \"%d,%d\" % (data[i][0], data[i][1])\n",
    "            else:\n",
    "                x_y = \", %d,%d\" % (data[i][0], data[i][1])\n",
    "            f.write(x_y)\n",
    "        f.close()\n",
    "\n",
    "    def txt2boxes(self):\n",
    "        f = open(self.filename, 'r')\n",
    "        dataSet = []\n",
    "        for line in f:\n",
    "            infos = line.split(\" \")\n",
    "            length = len(infos)\n",
    "            for i in range(1, length):\n",
    "                width = int(infos[i].split(\",\")[2]) - \\\n",
    "                    int(infos[i].split(\",\")[0])\n",
    "                height = int(infos[i].split(\",\")[3]) - \\\n",
    "                    int(infos[i].split(\",\")[1])\n",
    "                dataSet.append([width, height])\n",
    "        result = np.array(dataSet)\n",
    "        f.close()\n",
    "        return result\n",
    "\n",
    "    def txt2clusters(self, boxes):\n",
    "        # all_boxes = self.txt2boxes()\n",
    "        all_boxes = boxes\n",
    "        result = self.kmeans(all_boxes, k=self.cluster_number)\n",
    "        result = result[np.lexsort(result.T[0, None])]\n",
    "        self.result2txt(result)\n",
    "        print(\"K anchors:\\n {}\".format(result))\n",
    "        print(\"Accuracy: {:.2f}%\".format(\n",
    "            self.avg_iou(all_boxes, result) * 100))"
   ]
  },
  {
   "cell_type": "code",
   "execution_count": 10,
   "metadata": {},
   "outputs": [
    {
     "data": {
      "text/plain": "['./DETRAC-Train-Annotations-XML-v3\\\\MVI_20011_v3.xml',\n './DETRAC-Train-Annotations-XML-v3\\\\MVI_20012_v3.xml',\n './DETRAC-Train-Annotations-XML-v3\\\\MVI_20032_v3.xml',\n './DETRAC-Train-Annotations-XML-v3\\\\MVI_20033_v3.xml',\n './DETRAC-Train-Annotations-XML-v3\\\\MVI_20034_v3.xml',\n './DETRAC-Train-Annotations-XML-v3\\\\MVI_20035_v3.xml',\n './DETRAC-Train-Annotations-XML-v3\\\\MVI_20051_v3.xml',\n './DETRAC-Train-Annotations-XML-v3\\\\MVI_20052_v3.xml',\n './DETRAC-Train-Annotations-XML-v3\\\\MVI_20061_v3.xml',\n './DETRAC-Train-Annotations-XML-v3\\\\MVI_20062_v3.xml',\n './DETRAC-Train-Annotations-XML-v3\\\\MVI_20063_v3.xml',\n './DETRAC-Train-Annotations-XML-v3\\\\MVI_20064_v3.xml',\n './DETRAC-Train-Annotations-XML-v3\\\\MVI_20065_v3.xml',\n './DETRAC-Train-Annotations-XML-v3\\\\MVI_39761_v3.xml',\n './DETRAC-Train-Annotations-XML-v3\\\\MVI_39771_v3.xml',\n './DETRAC-Train-Annotations-XML-v3\\\\MVI_39781_v3.xml',\n './DETRAC-Train-Annotations-XML-v3\\\\MVI_39801_v3.xml',\n './DETRAC-Train-Annotations-XML-v3\\\\MVI_39811_v3.xml',\n './DETRAC-Train-Annotations-XML-v3\\\\MVI_39821_v3.xml',\n './DETRAC-Train-Annotations-XML-v3\\\\MVI_39851_v3.xml',\n './DETRAC-Train-Annotations-XML-v3\\\\MVI_39861_v3.xml',\n './DETRAC-Train-Annotations-XML-v3\\\\MVI_39931_v3.xml',\n './DETRAC-Train-Annotations-XML-v3\\\\MVI_40131_v3.xml',\n './DETRAC-Train-Annotations-XML-v3\\\\MVI_40141_v3.xml',\n './DETRAC-Train-Annotations-XML-v3\\\\MVI_40152_v3.xml',\n './DETRAC-Train-Annotations-XML-v3\\\\MVI_40161_v3.xml',\n './DETRAC-Train-Annotations-XML-v3\\\\MVI_40162_v3.xml',\n './DETRAC-Train-Annotations-XML-v3\\\\MVI_40171_v3.xml',\n './DETRAC-Train-Annotations-XML-v3\\\\MVI_40172_v3.xml',\n './DETRAC-Train-Annotations-XML-v3\\\\MVI_40181_v3.xml',\n './DETRAC-Train-Annotations-XML-v3\\\\MVI_40191_v3.xml',\n './DETRAC-Train-Annotations-XML-v3\\\\MVI_40192_v3.xml',\n './DETRAC-Train-Annotations-XML-v3\\\\MVI_40201_v3.xml',\n './DETRAC-Train-Annotations-XML-v3\\\\MVI_40204_v3.xml',\n './DETRAC-Train-Annotations-XML-v3\\\\MVI_40211_v3.xml',\n './DETRAC-Train-Annotations-XML-v3\\\\MVI_40212_v3.xml',\n './DETRAC-Train-Annotations-XML-v3\\\\MVI_40213_v3.xml',\n './DETRAC-Train-Annotations-XML-v3\\\\MVI_40241_v3.xml',\n './DETRAC-Train-Annotations-XML-v3\\\\MVI_40243_v3.xml',\n './DETRAC-Train-Annotations-XML-v3\\\\MVI_40244_v3.xml',\n './DETRAC-Train-Annotations-XML-v3\\\\MVI_40732_v3.xml',\n './DETRAC-Train-Annotations-XML-v3\\\\MVI_40751_v3.xml',\n './DETRAC-Train-Annotations-XML-v3\\\\MVI_40752_v3.xml',\n './DETRAC-Train-Annotations-XML-v3\\\\MVI_40871_v3.xml',\n './DETRAC-Train-Annotations-XML-v3\\\\MVI_40962_v3.xml',\n './DETRAC-Train-Annotations-XML-v3\\\\MVI_40963_v3.xml',\n './DETRAC-Train-Annotations-XML-v3\\\\MVI_40981_v3.xml',\n './DETRAC-Train-Annotations-XML-v3\\\\MVI_40991_v3.xml',\n './DETRAC-Train-Annotations-XML-v3\\\\MVI_40992_v3.xml',\n './DETRAC-Train-Annotations-XML-v3\\\\MVI_41063_v3.xml',\n './DETRAC-Train-Annotations-XML-v3\\\\MVI_41073_v3.xml',\n './DETRAC-Train-Annotations-XML-v3\\\\MVI_63521_v3.xml',\n './DETRAC-Train-Annotations-XML-v3\\\\MVI_63525_v3.xml',\n './DETRAC-Train-Annotations-XML-v3\\\\MVI_63544_v3.xml',\n './DETRAC-Train-Annotations-XML-v3\\\\MVI_63552_v3.xml',\n './DETRAC-Train-Annotations-XML-v3\\\\MVI_63553_v3.xml',\n './DETRAC-Train-Annotations-XML-v3\\\\MVI_63554_v3.xml',\n './DETRAC-Train-Annotations-XML-v3\\\\MVI_63561_v3.xml',\n './DETRAC-Train-Annotations-XML-v3\\\\MVI_63562_v3.xml',\n './DETRAC-Train-Annotations-XML-v3\\\\MVI_63563_v3.xml']"
     },
     "execution_count": 10,
     "metadata": {},
     "output_type": "execute_result"
    }
   ],
   "source": [
    "detrac_anno_folder = './DETRAC-Train-Annotations-XML-v3'\n",
    "anno_xmls = []\n",
    "folder_name = []\n",
    "xml_list = os.listdir(detrac_anno_folder)\n",
    "for anno_xml in xml_list:\n",
    "    anno_xmls.append(os.path.join(detrac_anno_folder, anno_xml))\n",
    "    folder_name.append(anno_xml[:-7])\n",
    "anno_xmls"
   ]
  },
  {
   "cell_type": "code",
   "execution_count": 18,
   "metadata": {},
   "outputs": [
    {
     "name": "stdout",
     "output_type": "stream",
     "text": "Processing: ./DETRAC-Train-Annotations-XML-v3\\MVI_20011_v3.xml\nProcessing: ./DETRAC-Train-Annotations-XML-v3\\MVI_20012_v3.xml\nProcessing: ./DETRAC-Train-Annotations-XML-v3\\MVI_20032_v3.xml\nProcessing: ./DETRAC-Train-Annotations-XML-v3\\MVI_20033_v3.xml\nProcessing: ./DETRAC-Train-Annotations-XML-v3\\MVI_20034_v3.xml\nProcessing: ./DETRAC-Train-Annotations-XML-v3\\MVI_20035_v3.xml\nProcessing: ./DETRAC-Train-Annotations-XML-v3\\MVI_20051_v3.xml\nProcessing: ./DETRAC-Train-Annotations-XML-v3\\MVI_20052_v3.xml\nProcessing: ./DETRAC-Train-Annotations-XML-v3\\MVI_20061_v3.xml\nProcessing: ./DETRAC-Train-Annotations-XML-v3\\MVI_20062_v3.xml\nProcessing: ./DETRAC-Train-Annotations-XML-v3\\MVI_20063_v3.xml\nProcessing: ./DETRAC-Train-Annotations-XML-v3\\MVI_20064_v3.xml\nProcessing: ./DETRAC-Train-Annotations-XML-v3\\MVI_20065_v3.xml\nProcessing: ./DETRAC-Train-Annotations-XML-v3\\MVI_39761_v3.xml\nProcessing: ./DETRAC-Train-Annotations-XML-v3\\MVI_39771_v3.xml\nProcessing: ./DETRAC-Train-Annotations-XML-v3\\MVI_39781_v3.xml\nProcessing: ./DETRAC-Train-Annotations-XML-v3\\MVI_39801_v3.xml\nProcessing: ./DETRAC-Train-Annotations-XML-v3\\MVI_39811_v3.xml\nProcessing: ./DETRAC-Train-Annotations-XML-v3\\MVI_39821_v3.xml\nProcessing: ./DETRAC-Train-Annotations-XML-v3\\MVI_39851_v3.xml\nProcessing: ./DETRAC-Train-Annotations-XML-v3\\MVI_39861_v3.xml\nProcessing: ./DETRAC-Train-Annotations-XML-v3\\MVI_39931_v3.xml\nProcessing: ./DETRAC-Train-Annotations-XML-v3\\MVI_40131_v3.xml\nProcessing: ./DETRAC-Train-Annotations-XML-v3\\MVI_40141_v3.xml\nProcessing: ./DETRAC-Train-Annotations-XML-v3\\MVI_40152_v3.xml\nProcessing: ./DETRAC-Train-Annotations-XML-v3\\MVI_40161_v3.xml\nProcessing: ./DETRAC-Train-Annotations-XML-v3\\MVI_40162_v3.xml\nProcessing: ./DETRAC-Train-Annotations-XML-v3\\MVI_40171_v3.xml\nProcessing: ./DETRAC-Train-Annotations-XML-v3\\MVI_40172_v3.xml\nProcessing: ./DETRAC-Train-Annotations-XML-v3\\MVI_40181_v3.xml\nProcessing: ./DETRAC-Train-Annotations-XML-v3\\MVI_40191_v3.xml\nProcessing: ./DETRAC-Train-Annotations-XML-v3\\MVI_40192_v3.xml\nProcessing: ./DETRAC-Train-Annotations-XML-v3\\MVI_40201_v3.xml\nProcessing: ./DETRAC-Train-Annotations-XML-v3\\MVI_40204_v3.xml\nProcessing: ./DETRAC-Train-Annotations-XML-v3\\MVI_40211_v3.xml\nProcessing: ./DETRAC-Train-Annotations-XML-v3\\MVI_40212_v3.xml\nProcessing: ./DETRAC-Train-Annotations-XML-v3\\MVI_40213_v3.xml\nProcessing: ./DETRAC-Train-Annotations-XML-v3\\MVI_40241_v3.xml\nProcessing: ./DETRAC-Train-Annotations-XML-v3\\MVI_40243_v3.xml\nProcessing: ./DETRAC-Train-Annotations-XML-v3\\MVI_40244_v3.xml\nProcessing: ./DETRAC-Train-Annotations-XML-v3\\MVI_40732_v3.xml\nProcessing: ./DETRAC-Train-Annotations-XML-v3\\MVI_40751_v3.xml\nProcessing: ./DETRAC-Train-Annotations-XML-v3\\MVI_40752_v3.xml\nProcessing: ./DETRAC-Train-Annotations-XML-v3\\MVI_40871_v3.xml\nProcessing: ./DETRAC-Train-Annotations-XML-v3\\MVI_40962_v3.xml\nProcessing: ./DETRAC-Train-Annotations-XML-v3\\MVI_40963_v3.xml\nProcessing: ./DETRAC-Train-Annotations-XML-v3\\MVI_40981_v3.xml\nProcessing: ./DETRAC-Train-Annotations-XML-v3\\MVI_40991_v3.xml\nProcessing: ./DETRAC-Train-Annotations-XML-v3\\MVI_40992_v3.xml\nProcessing: ./DETRAC-Train-Annotations-XML-v3\\MVI_41063_v3.xml\nProcessing: ./DETRAC-Train-Annotations-XML-v3\\MVI_41073_v3.xml\nProcessing: ./DETRAC-Train-Annotations-XML-v3\\MVI_63521_v3.xml\nProcessing: ./DETRAC-Train-Annotations-XML-v3\\MVI_63525_v3.xml\nProcessing: ./DETRAC-Train-Annotations-XML-v3\\MVI_63544_v3.xml\nProcessing: ./DETRAC-Train-Annotations-XML-v3\\MVI_63552_v3.xml\nProcessing: ./DETRAC-Train-Annotations-XML-v3\\MVI_63553_v3.xml\nProcessing: ./DETRAC-Train-Annotations-XML-v3\\MVI_63554_v3.xml\nProcessing: ./DETRAC-Train-Annotations-XML-v3\\MVI_63561_v3.xml\nProcessing: ./DETRAC-Train-Annotations-XML-v3\\MVI_63562_v3.xml\nProcessing: ./DETRAC-Train-Annotations-XML-v3\\MVI_63563_v3.xml\nWall time: 11.4 s\n"
    },
    {
     "data": {
      "text/plain": "(598281, 2)"
     },
     "execution_count": 18,
     "metadata": {},
     "output_type": "execute_result"
    }
   ],
   "source": [
    "%%time\n",
    "out_cols = ['class', 'identity', 'x_center', 'y_center', 'width', 'height']\n",
    "\n",
    "annotations_dim = []\n",
    "\n",
    "for idx in range(len(anno_xmls)):\n",
    "    print(f'Processing: {anno_xmls[idx]}')\n",
    "    root = ET.parse(anno_xmls[idx]).getroot()\n",
    "    for frame in root:\n",
    "        if (frame.tag != 'frame'):\n",
    "            continue\n",
    "        for targets in frame[0]:\n",
    "            width = round(float(targets[0].attrib['width']),2)\n",
    "            height = round(float(targets[0].attrib['height']),2)\n",
    "            # annotations_dim.append(tuple(map(float, (width, height))))\n",
    "            annotations_dim.append([width, height])\n",
    "annotations_dim = np.array(annotations_dim)\n",
    "annotations_dim.shape"
   ]
  },
  {
   "cell_type": "code",
   "execution_count": 21,
   "metadata": {},
   "outputs": [
    {
     "data": {
      "text/plain": "array([33.45, 27.48])"
     },
     "execution_count": 21,
     "metadata": {},
     "output_type": "execute_result"
    }
   ],
   "source": [
    "annotations_dim[10000]"
   ]
  },
  {
   "cell_type": "code",
   "execution_count": 19,
   "metadata": {},
   "outputs": [
    {
     "name": "stdout",
     "output_type": "stream",
     "text": "K anchors:\n [[ 24.47  19.35]\n [ 31.32  26.82]\n [ 41.75  31.93]\n [ 49.    42.81]\n [ 63.94  53.91]\n [ 67.35  37.27]\n [ 80.15  73.53]\n [ 96.15  49.  ]\n [110.65  99.13]\n [133.27  63.94]\n [173.8  107.66]\n [244.84 175.29]]\nAccuracy: 80.29%\nWall time: 14.3 s\n"
    }
   ],
   "source": [
    "%%time\n",
    "filename = 'anchor_exp_out.txt'\n",
    "kmeans = YOLO_Kmeans(num_cluster, filename)\n",
    "kmeans.txt2clusters(annotations_dim)"
   ]
  },
  {
   "cell_type": "code",
   "execution_count": null,
   "metadata": {},
   "outputs": [],
   "source": []
  }
 ]
}