{
 "nbformat": 4,
 "nbformat_minor": 2,
 "metadata": {
  "language_info": {
   "name": "python",
   "codemirror_mode": {
    "name": "ipython",
    "version": 3
   },
   "version": "3.7.6-final"
  },
  "orig_nbformat": 2,
  "file_extension": ".py",
  "mimetype": "text/x-python",
  "name": "python",
  "npconvert_exporter": "python",
  "pygments_lexer": "ipython3",
  "version": 3,
  "kernelspec": {
   "name": "python37664bittfkerascondaa665bc9b874d4a488298d09b77ad440a",
   "display_name": "Python 3.7.6 64-bit ('tfkeras': conda)"
  }
 },
 "cells": [
  {
   "cell_type": "markdown",
   "metadata": {},
   "source": [
    "### This notebook contains data preprocessing code to convert the KITTI annotations to fit the format required by the JDE model\n",
    "### https://github.com/Zhongdao/Towards-Realtime-MOT"
   ]
  },
  {
   "cell_type": "markdown",
   "metadata": {},
   "source": [
    "### KITTI dataset: http://www.cvlibs.net/datasets/kitti/eval_tracking.php"
   ]
  },
  {
   "cell_type": "code",
   "execution_count": 1,
   "metadata": {},
   "outputs": [],
   "source": [
    "import os\n",
    "import numpy as np\n",
    "import pandas as pd\n",
    "import cv2\n",
    "import time"
   ]
  },
  {
   "cell_type": "code",
   "execution_count": 2,
   "metadata": {},
   "outputs": [],
   "source": [
    "def readFileByLines(filepath):\n",
    "    with open(filepath) as f:\n",
    "        content = f.readlines()\n",
    "    return [x.strip() for x in content]"
   ]
  },
  {
   "cell_type": "code",
   "execution_count": 3,
   "metadata": {},
   "outputs": [],
   "source": [
    "def convertBbox(size, box):\n",
    "    dw = 1./size[0]\n",
    "    dh = 1./size[1]\n",
    "    x = (box[0] + box[1]) / 2.0\n",
    "    y = (box[2] + box[3]) / 2.0\n",
    "    w = box[1] - box[0]\n",
    "    h = box[3] - box[2]\n",
    "    x = x*dw\n",
    "    y = y*dh\n",
    "    w = w*dw\n",
    "    h = h*dh\n",
    "    return (x,y,w,h)"
   ]
  },
  {
   "cell_type": "code",
   "execution_count": 4,
   "metadata": {},
   "outputs": [],
   "source": [
    "def createDFRow(identity, bbox):\n",
    "    return {'class': '0',\n",
    "            'identity': str(identity),\n",
    "            'x_center': str(format(bbox[0],'f')),\n",
    "            'y_center': str(format(bbox[1],'f')),\n",
    "            'width': str(format(bbox[2],'f')),\n",
    "            'height': str(format(bbox[3],'f'))}"
   ]
  },
  {
   "cell_type": "code",
   "execution_count": 5,
   "metadata": {},
   "outputs": [],
   "source": [
    "anno_folder = './KITTI_ANNO'\n",
    "img_folder = './KITTI_IMG'\n",
    "out_folder = './KITTI_OUT_ANNO'\n",
    "anno_files = os.listdir(anno_folder)\n",
    "img_dir = os.listdir(img_folder)\n",
    "anno_dir = os.listdir(out_folder)"
   ]
  },
  {
   "cell_type": "code",
   "execution_count": 6,
   "metadata": {},
   "outputs": [
    {
     "data": {
      "text/plain": "['./KITTI_OUT_ANNO/0000',\n './KITTI_OUT_ANNO/0001',\n './KITTI_OUT_ANNO/0002',\n './KITTI_OUT_ANNO/0003',\n './KITTI_OUT_ANNO/0004',\n './KITTI_OUT_ANNO/0005',\n './KITTI_OUT_ANNO/0006',\n './KITTI_OUT_ANNO/0007',\n './KITTI_OUT_ANNO/0008',\n './KITTI_OUT_ANNO/0009',\n './KITTI_OUT_ANNO/0010',\n './KITTI_OUT_ANNO/0011',\n './KITTI_OUT_ANNO/0012',\n './KITTI_OUT_ANNO/0013',\n './KITTI_OUT_ANNO/0014',\n './KITTI_OUT_ANNO/0015',\n './KITTI_OUT_ANNO/0016',\n './KITTI_OUT_ANNO/0018',\n './KITTI_OUT_ANNO/0019',\n './KITTI_OUT_ANNO/0020']"
     },
     "execution_count": 6,
     "metadata": {},
     "output_type": "execute_result"
    }
   ],
   "source": [
    "anno_out_dir = []\n",
    "for dir in anno_dir:\n",
    "    anno_out_dir.append(os.path.join(out_folder, dir))\n",
    "anno_out_dir"
   ]
  },
  {
   "cell_type": "code",
   "execution_count": 7,
   "metadata": {},
   "outputs": [],
   "source": [
    "anno_file_path = []\n",
    "for anno in anno_files:\n",
    "    anno_file_path.append(os.path.join(anno_folder, anno))"
   ]
  },
  {
   "cell_type": "code",
   "execution_count": 8,
   "metadata": {},
   "outputs": [
    {
     "data": {
      "text/plain": "['./KITTI_ANNO/0000.txt',\n './KITTI_ANNO/0001.txt',\n './KITTI_ANNO/0002.txt',\n './KITTI_ANNO/0003.txt',\n './KITTI_ANNO/0004.txt',\n './KITTI_ANNO/0005.txt',\n './KITTI_ANNO/0006.txt',\n './KITTI_ANNO/0007.txt',\n './KITTI_ANNO/0008.txt',\n './KITTI_ANNO/0009.txt',\n './KITTI_ANNO/0010.txt',\n './KITTI_ANNO/0011.txt',\n './KITTI_ANNO/0012.txt',\n './KITTI_ANNO/0013.txt',\n './KITTI_ANNO/0014.txt',\n './KITTI_ANNO/0015.txt',\n './KITTI_ANNO/0016.txt',\n './KITTI_ANNO/0018.txt',\n './KITTI_ANNO/0019.txt',\n './KITTI_ANNO/0020.txt']"
     },
     "execution_count": 8,
     "metadata": {},
     "output_type": "execute_result"
    }
   ],
   "source": [
    "anno_file_path"
   ]
  },
  {
   "cell_type": "code",
   "execution_count": 9,
   "metadata": {},
   "outputs": [],
   "source": [
    "img_size = []\n",
    "for dir in img_dir:\n",
    "    fullpath = os.path.join(img_folder, os.path.join(dir, '000000.png'))\n",
    "    img = cv2.imread(fullpath)\n",
    "    img_size.append([img.shape[1], img.shape[0]])"
   ]
  },
  {
   "cell_type": "code",
   "execution_count": 10,
   "metadata": {},
   "outputs": [
    {
     "data": {
      "text/plain": "[[1242, 375],\n [1242, 375],\n [1242, 375],\n [1242, 375],\n [1242, 375],\n [1242, 375],\n [1242, 375],\n [1242, 375],\n [1242, 375],\n [1242, 375],\n [1242, 375],\n [1242, 375],\n [1242, 375],\n [1242, 375],\n [1224, 370],\n [1224, 370],\n [1224, 370],\n [1238, 374],\n [1238, 374],\n [1241, 376]]"
     },
     "execution_count": 10,
     "metadata": {},
     "output_type": "execute_result"
    }
   ],
   "source": [
    "img_size"
   ]
  },
  {
   "cell_type": "code",
   "execution_count": 11,
   "metadata": {},
   "outputs": [],
   "source": [
    "df_list = []\n",
    "col = ['frameId', 'trackId', 'objectType', 'truncated', 'occluded', 'alpha', 'bbox_left', 'bbox_top', 'bbox_right', 'bbox_bottom', 'height', 'width', 'length', 'x', 'y', 'z', 'ry']\n",
    "for path in anno_file_path:\n",
    "    df_list.append(pd.read_csv(path, sep=' ', names=col))"
   ]
  },
  {
   "cell_type": "code",
   "execution_count": 12,
   "metadata": {},
   "outputs": [
    {
     "data": {
      "text/html": "<div>\n<style scoped>\n    .dataframe tbody tr th:only-of-type {\n        vertical-align: middle;\n    }\n\n    .dataframe tbody tr th {\n        vertical-align: top;\n    }\n\n    .dataframe thead th {\n        text-align: right;\n    }\n</style>\n<table border=\"1\" class=\"dataframe\">\n  <thead>\n    <tr style=\"text-align: right;\">\n      <th></th>\n      <th>frameId</th>\n      <th>trackId</th>\n      <th>objectType</th>\n      <th>truncated</th>\n      <th>occluded</th>\n      <th>alpha</th>\n      <th>bbox_left</th>\n      <th>bbox_top</th>\n      <th>bbox_right</th>\n      <th>bbox_bottom</th>\n      <th>height</th>\n      <th>width</th>\n      <th>length</th>\n      <th>x</th>\n      <th>y</th>\n      <th>z</th>\n      <th>ry</th>\n    </tr>\n  </thead>\n  <tbody>\n    <tr>\n      <th>0</th>\n      <td>0</td>\n      <td>-1</td>\n      <td>DontCare</td>\n      <td>-1</td>\n      <td>-1</td>\n      <td>-10.000000</td>\n      <td>219.310000</td>\n      <td>188.490000</td>\n      <td>245.500000</td>\n      <td>218.560000</td>\n      <td>-1000.000000</td>\n      <td>-1000.000000</td>\n      <td>-1000.000000</td>\n      <td>-10.000000</td>\n      <td>-1.000000</td>\n      <td>-1.000000</td>\n      <td>-1.000000</td>\n    </tr>\n    <tr>\n      <th>1</th>\n      <td>0</td>\n      <td>-1</td>\n      <td>DontCare</td>\n      <td>-1</td>\n      <td>-1</td>\n      <td>-10.000000</td>\n      <td>47.560000</td>\n      <td>195.280000</td>\n      <td>115.480000</td>\n      <td>221.480000</td>\n      <td>-1000.000000</td>\n      <td>-1000.000000</td>\n      <td>-1000.000000</td>\n      <td>-10.000000</td>\n      <td>-1.000000</td>\n      <td>-1.000000</td>\n      <td>-1.000000</td>\n    </tr>\n    <tr>\n      <th>2</th>\n      <td>0</td>\n      <td>0</td>\n      <td>Van</td>\n      <td>0</td>\n      <td>0</td>\n      <td>-1.793451</td>\n      <td>296.744956</td>\n      <td>161.752147</td>\n      <td>455.226042</td>\n      <td>292.372804</td>\n      <td>2.000000</td>\n      <td>1.823255</td>\n      <td>4.433886</td>\n      <td>-4.552284</td>\n      <td>1.858523</td>\n      <td>13.410495</td>\n      <td>-2.115488</td>\n    </tr>\n    <tr>\n      <th>3</th>\n      <td>0</td>\n      <td>1</td>\n      <td>Cyclist</td>\n      <td>0</td>\n      <td>0</td>\n      <td>-1.936993</td>\n      <td>737.619499</td>\n      <td>161.531951</td>\n      <td>931.112229</td>\n      <td>374.000000</td>\n      <td>1.739063</td>\n      <td>0.824591</td>\n      <td>1.785241</td>\n      <td>1.640400</td>\n      <td>1.675660</td>\n      <td>5.776261</td>\n      <td>-1.675458</td>\n    </tr>\n    <tr>\n      <th>4</th>\n      <td>0</td>\n      <td>2</td>\n      <td>Pedestrian</td>\n      <td>0</td>\n      <td>0</td>\n      <td>-2.523309</td>\n      <td>1106.137292</td>\n      <td>166.576807</td>\n      <td>1204.470628</td>\n      <td>323.876144</td>\n      <td>1.714062</td>\n      <td>0.767881</td>\n      <td>0.972283</td>\n      <td>6.301919</td>\n      <td>1.652419</td>\n      <td>8.455685</td>\n      <td>-1.900245</td>\n    </tr>\n    <tr>\n      <th>...</th>\n      <td>...</td>\n      <td>...</td>\n      <td>...</td>\n      <td>...</td>\n      <td>...</td>\n      <td>...</td>\n      <td>...</td>\n      <td>...</td>\n      <td>...</td>\n      <td>...</td>\n      <td>...</td>\n      <td>...</td>\n      <td>...</td>\n      <td>...</td>\n      <td>...</td>\n      <td>...</td>\n      <td>...</td>\n    </tr>\n    <tr>\n      <th>1084</th>\n      <td>153</td>\n      <td>10</td>\n      <td>Car</td>\n      <td>0</td>\n      <td>2</td>\n      <td>-1.818856</td>\n      <td>680.294919</td>\n      <td>177.511028</td>\n      <td>842.313244</td>\n      <td>284.070033</td>\n      <td>1.524000</td>\n      <td>1.728591</td>\n      <td>3.894227</td>\n      <td>2.353367</td>\n      <td>1.622590</td>\n      <td>12.436503</td>\n      <td>-1.637280</td>\n    </tr>\n    <tr>\n      <th>1085</th>\n      <td>153</td>\n      <td>11</td>\n      <td>Car</td>\n      <td>0</td>\n      <td>2</td>\n      <td>1.864481</td>\n      <td>245.920800</td>\n      <td>194.456182</td>\n      <td>394.817829</td>\n      <td>286.444967</td>\n      <td>1.444000</td>\n      <td>1.595116</td>\n      <td>3.791789</td>\n      <td>-5.458963</td>\n      <td>1.908188</td>\n      <td>13.979427</td>\n      <td>1.497916</td>\n    </tr>\n    <tr>\n      <th>1086</th>\n      <td>153</td>\n      <td>12</td>\n      <td>Pedestrian</td>\n      <td>1</td>\n      <td>0</td>\n      <td>0.826456</td>\n      <td>1185.199080</td>\n      <td>151.165841</td>\n      <td>1241.000000</td>\n      <td>348.552707</td>\n      <td>1.688000</td>\n      <td>0.800000</td>\n      <td>0.884000</td>\n      <td>5.739732</td>\n      <td>1.500532</td>\n      <td>6.279632</td>\n      <td>1.543272</td>\n    </tr>\n    <tr>\n      <th>1087</th>\n      <td>153</td>\n      <td>13</td>\n      <td>Car</td>\n      <td>0</td>\n      <td>0</td>\n      <td>1.773993</td>\n      <td>344.361560</td>\n      <td>188.772369</td>\n      <td>430.531955</td>\n      <td>248.482384</td>\n      <td>1.422414</td>\n      <td>1.512803</td>\n      <td>3.707634</td>\n      <td>-6.033258</td>\n      <td>1.888008</td>\n      <td>19.788795</td>\n      <td>1.481180</td>\n    </tr>\n    <tr>\n      <th>1088</th>\n      <td>153</td>\n      <td>14</td>\n      <td>Car</td>\n      <td>0</td>\n      <td>2</td>\n      <td>-1.728662</td>\n      <td>652.362288</td>\n      <td>183.789605</td>\n      <td>737.478033</td>\n      <td>246.613864</td>\n      <td>1.365956</td>\n      <td>1.508586</td>\n      <td>3.485915</td>\n      <td>1.955738</td>\n      <td>1.651867</td>\n      <td>17.818612</td>\n      <td>-1.622048</td>\n    </tr>\n  </tbody>\n</table>\n<p>1089 rows × 17 columns</p>\n</div>",
      "text/plain": "      frameId  trackId  objectType  truncated  occluded      alpha  \\\n0           0       -1    DontCare         -1        -1 -10.000000   \n1           0       -1    DontCare         -1        -1 -10.000000   \n2           0        0         Van          0         0  -1.793451   \n3           0        1     Cyclist          0         0  -1.936993   \n4           0        2  Pedestrian          0         0  -2.523309   \n...       ...      ...         ...        ...       ...        ...   \n1084      153       10         Car          0         2  -1.818856   \n1085      153       11         Car          0         2   1.864481   \n1086      153       12  Pedestrian          1         0   0.826456   \n1087      153       13         Car          0         0   1.773993   \n1088      153       14         Car          0         2  -1.728662   \n\n        bbox_left    bbox_top   bbox_right  bbox_bottom       height  \\\n0      219.310000  188.490000   245.500000   218.560000 -1000.000000   \n1       47.560000  195.280000   115.480000   221.480000 -1000.000000   \n2      296.744956  161.752147   455.226042   292.372804     2.000000   \n3      737.619499  161.531951   931.112229   374.000000     1.739063   \n4     1106.137292  166.576807  1204.470628   323.876144     1.714062   \n...           ...         ...          ...          ...          ...   \n1084   680.294919  177.511028   842.313244   284.070033     1.524000   \n1085   245.920800  194.456182   394.817829   286.444967     1.444000   \n1086  1185.199080  151.165841  1241.000000   348.552707     1.688000   \n1087   344.361560  188.772369   430.531955   248.482384     1.422414   \n1088   652.362288  183.789605   737.478033   246.613864     1.365956   \n\n            width       length          x         y          z        ry  \n0    -1000.000000 -1000.000000 -10.000000 -1.000000  -1.000000 -1.000000  \n1    -1000.000000 -1000.000000 -10.000000 -1.000000  -1.000000 -1.000000  \n2        1.823255     4.433886  -4.552284  1.858523  13.410495 -2.115488  \n3        0.824591     1.785241   1.640400  1.675660   5.776261 -1.675458  \n4        0.767881     0.972283   6.301919  1.652419   8.455685 -1.900245  \n...           ...          ...        ...       ...        ...       ...  \n1084     1.728591     3.894227   2.353367  1.622590  12.436503 -1.637280  \n1085     1.595116     3.791789  -5.458963  1.908188  13.979427  1.497916  \n1086     0.800000     0.884000   5.739732  1.500532   6.279632  1.543272  \n1087     1.512803     3.707634  -6.033258  1.888008  19.788795  1.481180  \n1088     1.508586     3.485915   1.955738  1.651867  17.818612 -1.622048  \n\n[1089 rows x 17 columns]"
     },
     "execution_count": 12,
     "metadata": {},
     "output_type": "execute_result"
    }
   ],
   "source": [
    "df_list[0]"
   ]
  },
  {
   "cell_type": "code",
   "execution_count": 13,
   "metadata": {},
   "outputs": [
    {
     "name": "stdout",
     "output_type": "stream",
     "text": "153\n446\n232\n143\n313\n296\n269\n799\n389\n802\n293\n372\n77\n339\n105\n375\n208\n338\n1058\n836\nCPU times: user 2min 32s, sys: 4.94 s, total: 2min 37s\nWall time: 3min 10s\n"
    }
   ],
   "source": [
    "%%time\n",
    "out_cols = ['class', 'identity', 'x_center', 'y_center', 'width', 'height']\n",
    "veh_filter = ['Car', 'Van', 'Truck']\n",
    "df_list_mod = []\n",
    "\n",
    "for i in range(len(df_list)):\n",
    "    df = df_list[i]\n",
    "    \n",
    "    # Set last frameId\n",
    "    lastFrameId = df['frameId'].iloc[-1]\n",
    "    print(lastFrameId)\n",
    "    # Drop unused column\n",
    "    df.drop(['truncated', 'occluded', 'alpha', 'height', 'width', 'length', 'x', 'y', 'z', 'ry'], axis=1, inplace=True)\n",
    "\n",
    "    # Filter only vehicles\n",
    "    df = df[df['objectType'].isin(veh_filter)]\n",
    "\n",
    "    # Set folder path\n",
    "    folder = anno_out_dir[i]\n",
    "    \n",
    "    # Set image size\n",
    "    size = img_size[i]\n",
    "\n",
    "    # Loop rows in dataframe\n",
    "    for rows in range(lastFrameId+1):\n",
    "        out_df = pd.DataFrame(columns=out_cols)\n",
    "        file_name = os.path.join(folder, str(rows).zfill(6) + '.txt')\n",
    "        frows = df.loc[df['frameId'] == rows]\n",
    "        if frows.shape[0] == 0:\n",
    "            np.savetxt(file_name, out_df, fmt='%s')\n",
    "            continue\n",
    "        else:\n",
    "            for _, subrows in frows.iterrows():\n",
    "                bbox = convertBbox(size, [subrows.bbox_left, subrows.bbox_right, subrows.bbox_top, subrows.bbox_bottom])\n",
    "                newrow = createDFRow(subrows.trackId, bbox)\n",
    "                out_df = out_df.append(newrow, ignore_index=True)\n",
    "            np.savetxt(file_name, out_df, fmt='%s')\n",
    "\n",
    "\n",
    "    # df_list_mod.append(df)\n"
   ]
  },
  {
   "cell_type": "code",
   "execution_count": null,
   "metadata": {},
   "outputs": [],
   "source": []
  }
 ]
}